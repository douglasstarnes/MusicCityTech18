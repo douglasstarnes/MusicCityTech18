{
 "cells": [
  {
   "cell_type": "markdown",
   "metadata": {},
   "source": [
    "## Matrix Multiplication"
   ]
  },
  {
   "cell_type": "markdown",
   "metadata": {},
   "source": [
    "Given a matrix $X$ with $n$ rows and $m$ columns,\n",
    "\n",
    "And a matrix $Y$ with $m$ rows and $p$ columns,\n",
    "\n",
    "The matrix $Z$ is a product of $X$ and $Y$ \n",
    "\n",
    "if\n",
    "\n",
    "$\\forall{i} \\in 1\\dots n, \\forall{j} \\in 1\\dots p$\n",
    "\n",
    "$c_{ij} = \\displaystyle\\sum_{k=1}^{m} X_{ik}Y_{kj}$"
   ]
  },
  {
   "cell_type": "code",
   "execution_count": 1,
   "metadata": {},
   "outputs": [],
   "source": [
    "left = [[1, 2, 3], [4, 5, 6]] # 2 rows and 3 columns\n",
    "right = [[1, 2], [3, 4], [5, 6]] # 3 rows and 2 columns"
   ]
  },
  {
   "cell_type": "code",
   "execution_count": 169,
   "metadata": {},
   "outputs": [],
   "source": [
    "def get_row(m, i):\n",
    "    return m[i]\n",
    "\n",
    "def get_col(m, i):\n",
    "    return [row[i] for row in m]\n",
    "\n",
    "def dot_vector(l, r):\n",
    "    return sum([t[0] * t[1] for t in list(zip(l, r))])\n",
    "\n",
    "def zero_m(h, w):\n",
    "    m = []\n",
    "    for r in range(h):\n",
    "        m.append([0] * w)\n",
    "    return m\n",
    "            \n",
    "\n",
    "def shape_m(m):\n",
    "    return (len(m), len(m[0]))  # (rows, cols)\n",
    "\n",
    "def dot_matrix(l, r):\n",
    "    rows_l, cols_l = shape_m(l)\n",
    "    rows_r, cols_r = shape_m(r)\n",
    "    \n",
    "    if not cols_l == rows_r:\n",
    "        raise ValueError('columns on left must equal rows on right')\n",
    "        \n",
    "    zeroes = zero_m(rows_l, cols_r)\n",
    "    \n",
    "    for row in range(rows_l):\n",
    "        for col in range(cols_r): \n",
    "            zeroes[row][col] = dot_vector(get_row(l, row), get_col(r, col)) # c_ij\n",
    "            \n",
    "    return zeroes\n",
    "    \n",
    "    "
   ]
  },
  {
   "cell_type": "code",
   "execution_count": 170,
   "metadata": {},
   "outputs": [
    {
     "data": {
      "text/plain": [
       "[[22, 28], [49, 64]]"
      ]
     },
     "execution_count": 170,
     "metadata": {},
     "output_type": "execute_result"
    }
   ],
   "source": [
    "dot_matrix(left, right)"
   ]
  },
  {
   "cell_type": "markdown",
   "metadata": {},
   "source": [
    "## `numpy`\n",
    "\n",
    "The `numpy` library provides a more efficient implementation."
   ]
  },
  {
   "cell_type": "code",
   "execution_count": 171,
   "metadata": {},
   "outputs": [],
   "source": [
    "import numpy as np"
   ]
  },
  {
   "cell_type": "code",
   "execution_count": 172,
   "metadata": {},
   "outputs": [],
   "source": [
    "p = np.array(left)\n",
    "q = np.array(right)"
   ]
  },
  {
   "cell_type": "code",
   "execution_count": 173,
   "metadata": {},
   "outputs": [
    {
     "data": {
      "text/plain": [
       "array([[22, 28],\n",
       "       [49, 64]])"
      ]
     },
     "execution_count": 173,
     "metadata": {},
     "output_type": "execute_result"
    }
   ],
   "source": [
    "p.dot(q)"
   ]
  },
  {
   "cell_type": "markdown",
   "metadata": {},
   "source": [
    "A useful concept in Jupyter Notebook is the *magic command* which is similar to a macro.  Magic commands are always prefixed with a percent sign (*%*)\n",
    "\n",
    "The `timeit` magic command will run the code in the rest of the line over and over and return the average run time."
   ]
  },
  {
   "cell_type": "code",
   "execution_count": 174,
   "metadata": {},
   "outputs": [
    {
     "name": "stdout",
     "output_type": "stream",
     "text": [
      "11.2 µs ± 654 ns per loop (mean ± std. dev. of 7 runs, 100000 loops each)\n"
     ]
    }
   ],
   "source": [
    "%timeit dot_matrix(left, right)"
   ]
  },
  {
   "cell_type": "code",
   "execution_count": 175,
   "metadata": {},
   "outputs": [
    {
     "name": "stdout",
     "output_type": "stream",
     "text": [
      "1.14 µs ± 40.9 ns per loop (mean ± std. dev. of 7 runs, 1000000 loops each)\n"
     ]
    }
   ],
   "source": [
    "%timeit p.dot(q)"
   ]
  },
  {
   "cell_type": "markdown",
   "metadata": {},
   "source": [
    "This shows that the brute force implementation of matrix multiplication is a lot slower than the `numpy` implementation which is written in C."
   ]
  },
  {
   "cell_type": "code",
   "execution_count": null,
   "metadata": {},
   "outputs": [],
   "source": [
    "data = [[1, 2, 3], [2, 3, 4], [3, 4, 5]]"
   ]
  },
  {
   "cell_type": "code",
   "execution_count": null,
   "metadata": {},
   "outputs": [],
   "source": [
    "def sum_vector(*args):\n",
    "    length = len(args[0])\n",
    "    for v in args:\n",
    "        if not len(v) == length:\n",
    "            raise ValueError('length of all vectors must be the same')\n",
    "    return [sum(t) for t in list(zip(*args))]\n",
    "\n",
    "sum_vector(*data)"
   ]
  },
  {
   "cell_type": "code",
   "execution_count": null,
   "metadata": {},
   "outputs": [],
   "source": [
    "np.array(data[0]) + np.array(data[1]) + np.array(data[2])"
   ]
  },
  {
   "cell_type": "markdown",
   "metadata": {},
   "source": [
    "## `pandas`\n",
    "\n",
    "The `pandas` library is for statistical analysis"
   ]
  },
  {
   "cell_type": "code",
   "execution_count": null,
   "metadata": {},
   "outputs": [],
   "source": [
    "import pandas as pd"
   ]
  },
  {
   "cell_type": "markdown",
   "metadata": {},
   "source": [
    "Data can be loaded from a csv file into a data frame.  This is the fundamental data structure in pandas.  It is similar to the data frame in R."
   ]
  },
  {
   "cell_type": "code",
   "execution_count": null,
   "metadata": {},
   "outputs": [],
   "source": [
    "df = pd.read_csv('dow_jones_index/dow_jones_index.csv')"
   ]
  },
  {
   "cell_type": "code",
   "execution_count": null,
   "metadata": {},
   "outputs": [],
   "source": [
    "df.head()"
   ]
  },
  {
   "cell_type": "markdown",
   "metadata": {},
   "source": [
    "Take a subset of the columns and copy them to suppress a warning."
   ]
  },
  {
   "cell_type": "code",
   "execution_count": null,
   "metadata": {},
   "outputs": [],
   "source": [
    "v = df[df.columns[1:8]].copy()"
   ]
  },
  {
   "cell_type": "code",
   "execution_count": null,
   "metadata": {},
   "outputs": [],
   "source": [
    "v.head()"
   ]
  },
  {
   "cell_type": "markdown",
   "metadata": {},
   "source": [
    "The values in the columns with a dollar sign are currently of type `str`.  However, we'd need to work with them as `float`.  This is easy in `pandas` converting 3000 values with 2 lines of code.  The `lambda` is an anonymous function that slices the value thus omitting the dollar sign and then converting it to a `float`.  This function is applied to every value in a column and then assigned back to that column in the data frame."
   ]
  },
  {
   "cell_type": "code",
   "execution_count": null,
   "metadata": {},
   "outputs": [],
   "source": [
    "for column in v.columns[2:6]:\n",
    "    v[column] = v[column].apply(lambda x: float(x[1:]), 1)"
   ]
  },
  {
   "cell_type": "code",
   "execution_count": null,
   "metadata": {},
   "outputs": [],
   "source": [
    "v.head()"
   ]
  },
  {
   "cell_type": "markdown",
   "metadata": {},
   "source": [
    "A data frame can be filtered with boolean expressions by one or more columns."
   ]
  },
  {
   "cell_type": "code",
   "execution_count": null,
   "metadata": {},
   "outputs": [],
   "source": [
    "listing = v[v['stock'] == 'HD']"
   ]
  },
  {
   "cell_type": "code",
   "execution_count": null,
   "metadata": {},
   "outputs": [],
   "source": [
    "listing.head()"
   ]
  },
  {
   "cell_type": "markdown",
   "metadata": {},
   "source": [
    "## `matplotlib`\n",
    "\n",
    "The `matplotlib` library is for visualization of data."
   ]
  },
  {
   "cell_type": "code",
   "execution_count": null,
   "metadata": {},
   "outputs": [],
   "source": [
    "import matplotlib.pyplot as plt\n",
    "%matplotlib inline"
   ]
  },
  {
   "cell_type": "code",
   "execution_count": null,
   "metadata": {},
   "outputs": [],
   "source": [
    "y = listing.close\n",
    "x = list(range(len(y)))\n",
    "\n",
    "plt.xticks(np.arange(len(x)), listing.date, rotation='vertical')\n",
    "\n",
    "y2 = listing.volume\n",
    "plt.bar(x, y2, color='#cccccc')\n",
    "ax2 = plt.twinx()\n",
    "ax2.plot(x, y, color='k')"
   ]
  },
  {
   "cell_type": "markdown",
   "metadata": {},
   "source": [
    "## Dashboard"
   ]
  },
  {
   "cell_type": "markdown",
   "metadata": {},
   "source": [
    "Using `ipywidgets` will create interactive JavaScript controls which can be used to manipulate data with a friendly interface instead of code"
   ]
  },
  {
   "cell_type": "code",
   "execution_count": null,
   "metadata": {},
   "outputs": [],
   "source": [
    "import ipywidgets as widgets\n",
    "from IPython.core.display import display"
   ]
  },
  {
   "cell_type": "code",
   "execution_count": null,
   "metadata": {},
   "outputs": [],
   "source": [
    "stock_dict = {}\n",
    "\n",
    "for stock in v.stock.unique():\n",
    "    stock_dict[stock] = v[v.stock == stock]\n",
    "\n",
    "date_slider = widgets.SelectionRangeSlider(options=list(stock_dict['AA'].date), \n",
    "    index=(0, 24), \n",
    "    description='Dates', \n",
    "    layout=widgets.Layout(width='500px'))\n",
    "show_vol2 = widgets.Checkbox(description='Show Volume')\n",
    "dd_select3 = widgets.Dropdown(options=sorted(list(stock_dict.keys())))\n",
    "button = widgets.Button(description='Show Graph')\n",
    "\n",
    "def button_click(b):\n",
    "    stock_row = stock_dict[dd_select3.value]\n",
    "    start_index = date_slider.index[0]\n",
    "    end_index = date_slider.index[1]\n",
    "    stock_row = stock_row[start_index:(end_index+1)]\n",
    "    \n",
    "    y = stock_row.close\n",
    "    x = list(range(len(y)))\n",
    "    \n",
    "    plt.xticks(np.arange(len(x)), stock_row.date, rotation='vertical')\n",
    "    \n",
    "    if show_vol2.value == False:\n",
    "        plt.plot(x, y, color='k')\n",
    "    else:\n",
    "        y2 = stock_row.volume\n",
    "        plt.bar(x, y2, color='#cccccc')\n",
    "        ax2 = plt.twinx()\n",
    "        ax2.plot(x, y, color='k')\n",
    "\n",
    "button.on_click(button_click)\n",
    "\n",
    "display(date_slider)\n",
    "display(show_vol2)\n",
    "display(dd_select3)\n",
    "display(button)"
   ]
  },
  {
   "cell_type": "code",
   "execution_count": null,
   "metadata": {},
   "outputs": [],
   "source": []
  }
 ],
 "metadata": {
  "kernelspec": {
   "display_name": "Python 3",
   "language": "python",
   "name": "python3"
  },
  "language_info": {
   "codemirror_mode": {
    "name": "ipython",
    "version": 3
   },
   "file_extension": ".py",
   "mimetype": "text/x-python",
   "name": "python",
   "nbconvert_exporter": "python",
   "pygments_lexer": "ipython3",
   "version": "3.6.5"
  }
 },
 "nbformat": 4,
 "nbformat_minor": 2
}
